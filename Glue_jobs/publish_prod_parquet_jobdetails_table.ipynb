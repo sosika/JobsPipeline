{
 "cells": [
  {
   "cell_type": "code",
   "execution_count": null,
   "id": "10455c23-c413-4b78-9929-d17c7d6d4c9d",
   "metadata": {},
   "outputs": [],
   "source": [
    "import sys\n",
    "import boto3\n",
    "from datetime import datetime\n",
    "\n",
    "# Define parameters\n",
    "QUERY_RESULTS_BUCKET = 's3://my-athena-bucket-dec2024/'\n",
    "MY_DATABASE = 'de_proj_database2'\n",
    "SOURCE_PARQUET_TABLE_NAME = 'jobdetails_jobs_with_details_parquet_tbl'\n",
    "NEW_PROD_PARQUET_TABLE_NAME = 'jobdetails_jobs_with_details_parquet_tbl_PROD'\n",
    "NEW_PROD_PARQUET_TABLE_S3_BUCKET = 's3://parquet-jobdetails-table-prod-1'\n",
    "\n",
    "# Create a string with the current UTC datetime and replace special characters\n",
    "DATETIME_NOW_INT_STR = str(datetime.utcnow()).replace('-', '_').replace(' ', '_').replace(':', '_').replace('.', '_')\n",
    "\n",
    "# Initialize Athena client\n",
    "client = boto3.client('athena')\n",
    "\n",
    "# Start the query execution to create the new production table\n",
    "queryStart = client.start_query_execution(\n",
    "    QueryString=f\"\"\"\n",
    "    CREATE TABLE {NEW_PROD_PARQUET_TABLE_NAME}_{DATETIME_NOW_INT_STR} WITH (\n",
    "        external_location='{NEW_PROD_PARQUET_TABLE_S3_BUCKET}/{DATETIME_NOW_INT_STR}/',\n",
    "        format='PARQUET',\n",
    "        write_compression='SNAPPY',\n",
    "        partitioned_by = ARRAY['yr_mo_partition']\n",
    "    ) AS\n",
    "    SELECT\n",
    "        *\n",
    "    FROM \"{MY_DATABASE}\".\"{SOURCE_PARQUET_TABLE_NAME}\"\n",
    "    ;\n",
    "    \"\"\",\n",
    "    QueryExecutionContext={\n",
    "        'Database': f'{MY_DATABASE}'\n",
    "    },\n",
    "    ResultConfiguration={'OutputLocation': f'{QUERY_RESULTS_BUCKET}'}\n",
    ")\n",
    "\n",
    "# List of possible query statuses\n",
    "resp = [\"FAILED\", \"SUCCEEDED\", \"CANCELLED\"]\n",
    "\n",
    "# Get the query execution response\n",
    "response = client.get_query_execution(QueryExecutionId=queryStart[\"QueryExecutionId\"])\n",
    "\n",
    "# Wait until the query finishes\n",
    "while response[\"QueryExecution\"][\"Status\"][\"State\"] not in resp:\n",
    "    response = client.get_query_execution(QueryExecutionId=queryStart[\"QueryExecutionId\"])\n",
    "\n",
    "# Handle failed queries\n",
    "if response[\"QueryExecution\"][\"Status\"][\"State\"] == 'FAILED':\n",
    "    sys.exit(response[\"QueryExecution\"][\"Status\"][\"StateChangeReason\"])\n",
    "\n",
    "# Log success\n",
    "print(f\"Production table created successfully: {NEW_PROD_PARQUET_TABLE_NAME}_{DATETIME_NOW_INT_STR}\")\n"
   ]
  }
 ],
 "metadata": {
  "kernelspec": {
   "display_name": "Python 3 (ipykernel)",
   "language": "python",
   "name": "python3"
  },
  "language_info": {
   "codemirror_mode": {
    "name": "ipython",
    "version": 3
   },
   "file_extension": ".py",
   "mimetype": "text/x-python",
   "name": "python",
   "nbconvert_exporter": "python",
   "pygments_lexer": "ipython3",
   "version": "3.12.7"
  }
 },
 "nbformat": 4,
 "nbformat_minor": 5
}
