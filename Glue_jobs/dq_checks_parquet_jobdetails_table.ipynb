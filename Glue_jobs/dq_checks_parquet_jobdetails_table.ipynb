{
 "cells": [
  {
   "cell_type": "code",
   "execution_count": null,
   "id": "e1f6d458-e1bc-4e89-88b9-90882fa616ac",
   "metadata": {},
   "outputs": [],
   "source": [
    "import sys\n",
    "import awswrangler as wr\n",
    "\n",
    "# Define the parameters\n",
    "DATABASE_NAME = \"de_proj_database2\"\n",
    "TABLE_NAME = \"jobdetails_jobs_with_details_parquet_tbl\"\n",
    "\n",
    "# Define data quality checks\n",
    "# Example: Check if critical columns contain NULL values\n",
    "DQ_CHECKS = [\n",
    "    {\n",
    "        \"name\": \"Check for NULL values in job_id\",\n",
    "        \"sql\": f\"\"\"\n",
    "            SELECT SUM(CASE WHEN job_id IS NULL THEN 1 ELSE 0 END) AS res_col\n",
    "            FROM \"{DATABASE_NAME}\".\"{TABLE_NAME}\"\n",
    "        \"\"\"\n",
    "    },\n",
    "    {\n",
    "        \"name\": \"Check for NULL values in title\",\n",
    "        \"sql\": f\"\"\"\n",
    "            SELECT SUM(CASE WHEN title IS NULL THEN 1 ELSE 0 END) AS res_col\n",
    "            FROM \"{DATABASE_NAME}\".\"{TABLE_NAME}\"\n",
    "        \"\"\"\n",
    "    },\n",
    "    {\n",
    "        \"name\": \"Check for NULL values in company_name\",\n",
    "        \"sql\": f\"\"\"\n",
    "            SELECT SUM(CASE WHEN company_name IS NULL THEN 1 ELSE 0 END) AS res_col\n",
    "            FROM \"{DATABASE_NAME}\".\"{TABLE_NAME}\"\n",
    "        \"\"\"\n",
    "    }\n",
    "]\n",
    "\n",
    "# Run data quality checks\n",
    "for check in DQ_CHECKS:\n",
    "    print(f\"Running data quality check: {check['name']}\")\n",
    "    # Execute the query\n",
    "    df = wr.athena.read_sql_query(sql=check[\"sql\"], database=DATABASE_NAME)\n",
    "    \n",
    "    # Check the result\n",
    "    if df['res_col'][0] > 0:\n",
    "        print(f\"Data quality check failed: {check['name']}\")\n",
    "        sys.exit(f\"Check failed: {check['name']}. Found {df['res_col'][0]} NULL values.\")\n",
    "    else:\n",
    "        print(f\"Data quality check passed: {check['name']}\")\n",
    "\n",
    "print(\"All data quality checks passed.\")"
   ]
  }
 ],
 "metadata": {
  "kernelspec": {
   "display_name": "Python 3 (ipykernel)",
   "language": "python",
   "name": "python3"
  },
  "language_info": {
   "codemirror_mode": {
    "name": "ipython",
    "version": 3
   },
   "file_extension": ".py",
   "mimetype": "text/x-python",
   "name": "python",
   "nbconvert_exporter": "python",
   "pygments_lexer": "ipython3",
   "version": "3.12.7"
  }
 },
 "nbformat": 4,
 "nbformat_minor": 5
}
